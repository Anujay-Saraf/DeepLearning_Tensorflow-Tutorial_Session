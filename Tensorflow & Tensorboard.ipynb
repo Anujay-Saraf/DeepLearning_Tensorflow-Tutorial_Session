{
 "cells": [
  {
   "cell_type": "code",
   "execution_count": 1,
   "metadata": {},
   "outputs": [
    {
     "name": "stderr",
     "output_type": "stream",
     "text": [
      "C:\\Program Files\\Anaconda3\\lib\\site-packages\\h5py\\__init__.py:36: FutureWarning: Conversion of the second argument of issubdtype from `float` to `np.floating` is deprecated. In future, it will be treated as `np.float64 == np.dtype(float).type`.\n",
      "  from ._conv import register_converters as _register_converters\n"
     ]
    }
   ],
   "source": [
    "import tensorflow as tf"
   ]
  },
  {
   "cell_type": "markdown",
   "metadata": {},
   "source": [
    "### Variable and Placeholder"
   ]
  },
  {
   "cell_type": "code",
   "execution_count": 4,
   "metadata": {},
   "outputs": [
    {
     "data": {
      "text/plain": [
       "<tf.Tensor 'Assign_1:0' shape=() dtype=int32_ref>"
      ]
     },
     "execution_count": 4,
     "metadata": {},
     "output_type": "execute_result"
    }
   ],
   "source": [
    "x = tf.Variable(4)  # Variable\n",
    "x = tf.assign(x,2) \n",
    "x"
   ]
  },
  {
   "cell_type": "code",
   "execution_count": 11,
   "metadata": {},
   "outputs": [
    {
     "data": {
      "text/plain": [
       "<tf.Tensor 'add_5:0' shape=<unknown> dtype=float32>"
      ]
     },
     "execution_count": 11,
     "metadata": {},
     "output_type": "execute_result"
    }
   ],
   "source": [
    "holder1 = tf.placeholder(tf.float32)\n",
    "holder_sum = holder1+2\n",
    "holder_sum"
   ]
  },
  {
   "cell_type": "markdown",
   "metadata": {},
   "source": [
    "# constant"
   ]
  },
  {
   "cell_type": "code",
   "execution_count": 13,
   "metadata": {},
   "outputs": [
    {
     "data": {
      "text/plain": [
       "<tf.Tensor 'Const_1:0' shape=() dtype=int32>"
      ]
     },
     "execution_count": 13,
     "metadata": {},
     "output_type": "execute_result"
    }
   ],
   "source": [
    "const1 = tf.constant(44)\n",
    "const1"
   ]
  },
  {
   "cell_type": "markdown",
   "metadata": {},
   "source": [
    "# Session"
   ]
  },
  {
   "cell_type": "code",
   "execution_count": 17,
   "metadata": {},
   "outputs": [
    {
     "name": "stdout",
     "output_type": "stream",
     "text": [
      "2\n"
     ]
    }
   ],
   "source": [
    "# a computational graph is use to be created using tensorflow and sensed by session\n",
    "# lets see session to compute variables and constant then we will compute the graph\n",
    "\n",
    "#firstly compute the variables\n",
    "init =tf.global_variables_initializer()\n",
    "with tf.Session() as sess:\n",
    "    sess.run(init)\n",
    "    print(sess.run(x))"
   ]
  },
  {
   "cell_type": "code",
   "execution_count": 18,
   "metadata": {},
   "outputs": [
    {
     "name": "stdout",
     "output_type": "stream",
     "text": [
      "7.0\n"
     ]
    }
   ],
   "source": [
    "# lets compute the placeholder\n",
    "init =tf.global_variables_initializer()\n",
    "with tf.Session() as sess:\n",
    "    sess.run(init)\n",
    "    print(sess.run(holder_sum,feed_dict={holder1 :5}))"
   ]
  },
  {
   "cell_type": "code",
   "execution_count": 20,
   "metadata": {},
   "outputs": [
    {
     "name": "stdout",
     "output_type": "stream",
     "text": [
      "44\n"
     ]
    }
   ],
   "source": [
    "# lets compute the constant\n",
    "init =tf.global_variables_initializer()\n",
    "with tf.Session() as sess:\n",
    "    sess.run(init)\n",
    "    print(sess.run(const1))"
   ]
  },
  {
   "cell_type": "markdown",
   "metadata": {},
   "source": [
    "# Gradient and Optimizer"
   ]
  },
  {
   "cell_type": "code",
   "execution_count": 22,
   "metadata": {},
   "outputs": [],
   "source": [
    "# lets understand about the Gradient and Optimizer\n",
    "from sklearn.datasets import load_boston\n",
    "from sklearn.preprocessing import StandardScaler #normalization of data\n",
    "import numpy as np\n",
    "tf.reset_default_graph()  #resetting to set new graph"
   ]
  },
  {
   "cell_type": "code",
   "execution_count": 25,
   "metadata": {},
   "outputs": [],
   "source": [
    "# will load the boston data now and then we will normalize iter\n",
    "boston_data = load_boston()\n",
    "m,n = boston_data.data.shape\n",
    "scaler = StandardScaler()\n",
    "scaled_boston_data = scaler.fit_transform(boston_data.data)\n",
    "scaled_boston_data_plus_bias = np.c_[np.ones((m,1)),scaled_boston_data]\n"
   ]
  },
  {
   "cell_type": "code",
   "execution_count": 26,
   "metadata": {},
   "outputs": [],
   "source": [
    "# Creating nodes for holding the data\n",
    "X = tf.constant(scaled_boston_data_plus_bias,dtype=tf.float32,name='X')\n",
    "Y = tf.constant(boston_data.target.reshape(-1,1),dtype=tf.float32,name='Y')\n",
    "w = tf.Variable(tf.random_uniform([n+1,1],-1,1),name='weights')"
   ]
  },
  {
   "cell_type": "code",
   "execution_count": 29,
   "metadata": {},
   "outputs": [],
   "source": [
    "# Calculating the Error\n",
    "y_pred = tf.matmul(X,w,name='predictions')\n",
    "error = y_pred-Y\n",
    "mse = tf.reduce_mean(tf.square(error,name='mse'))"
   ]
  },
  {
   "cell_type": "code",
   "execution_count": 31,
   "metadata": {},
   "outputs": [],
   "source": [
    "# Optimiser \n",
    "optimizer = tf.train.GradientDescentOptimizer(learning_rate=0.01)"
   ]
  },
  {
   "cell_type": "code",
   "execution_count": 32,
   "metadata": {},
   "outputs": [],
   "source": [
    "# Optimising the training errors\n",
    "training_op = optimizer.minimize(mse)"
   ]
  },
  {
   "cell_type": "code",
   "execution_count": 30,
   "metadata": {},
   "outputs": [],
   "source": [
    "# Initializing the Variables of the Computational Graph\n",
    "init = tf.global_variables_initializer()"
   ]
  },
  {
   "cell_type": "code",
   "execution_count": 34,
   "metadata": {},
   "outputs": [
    {
     "name": "stdout",
     "output_type": "stream",
     "text": [
      "('Epoch', 0, 'MSE', 572.76843)\n",
      "('Epoch', 100, 'MSE', 32.32502)\n",
      "('Epoch', 200, 'MSE', 23.017544)\n",
      "('Epoch', 300, 'MSE', 22.502241)\n",
      "('Epoch', 400, 'MSE', 22.293097)\n",
      "('Epoch', 500, 'MSE', 22.168787)\n",
      "('Epoch', 600, 'MSE', 22.090145)\n",
      "('Epoch', 700, 'MSE', 22.038013)\n",
      "('Epoch', 800, 'MSE', 22.002026)\n",
      "('Epoch', 900, 'MSE', 21.976357)\n",
      "[[22.53276   ]\n",
      " [-0.86536497]\n",
      " [ 0.9873173 ]\n",
      " [-0.10049585]\n",
      " [ 0.7156861 ]\n",
      " [-1.9345138 ]\n",
      " [ 2.7318778 ]\n",
      " [-0.02908371]\n",
      " [-3.0603955 ]\n",
      " [ 2.043599  ]\n",
      " [-1.410048  ]\n",
      " [-2.0226169 ]\n",
      " [ 0.8565921 ]\n",
      " [-3.722258  ]]\n"
     ]
    }
   ],
   "source": [
    "# Running the Computation graph\n",
    "with tf.Session() as sess:\n",
    "    sess.run(init)\n",
    "    for epoch in range(1000):\n",
    "        if (epoch%100 == 0):\n",
    "            print((\"Epoch\",epoch,\"MSE\",mse.eval()))\n",
    "        sess.run(training_op)\n",
    "    best_weights = w.eval()\n",
    "    print(best_weights)"
   ]
  },
  {
   "cell_type": "markdown",
   "metadata": {},
   "source": [
    "#  Managing the graphs"
   ]
  },
  {
   "cell_type": "code",
   "execution_count": 36,
   "metadata": {},
   "outputs": [
    {
     "data": {
      "text/plain": [
       "True"
      ]
     },
     "execution_count": 36,
     "metadata": {},
     "output_type": "execute_result"
    }
   ],
   "source": [
    "x1 =  tf.Variable(4)\n",
    "x1.graph is tf.get_default_graph()"
   ]
  },
  {
   "cell_type": "code",
   "execution_count": 37,
   "metadata": {},
   "outputs": [],
   "source": [
    "graph1 = tf.Graph()\n",
    "with graph1.as_default():\n",
    "    x2 = tf.Variable(411)"
   ]
  },
  {
   "cell_type": "code",
   "execution_count": 38,
   "metadata": {},
   "outputs": [
    {
     "data": {
      "text/plain": [
       "False"
      ]
     },
     "execution_count": 38,
     "metadata": {},
     "output_type": "execute_result"
    }
   ],
   "source": [
    "x2.graph is tf.get_default_graph()"
   ]
  },
  {
   "cell_type": "markdown",
   "metadata": {},
   "source": [
    "# Tensorboard"
   ]
  },
  {
   "cell_type": "markdown",
   "metadata": {},
   "source": [
    "Why we use Tensorboard\n",
    "\n",
    "Used for visualizing the Tensorflow Computational graph build by Tensorflow\n",
    "Understand the different scaler processes like MSE by every epoch\n"
   ]
  },
  {
   "cell_type": "code",
   "execution_count": 22,
   "metadata": {},
   "outputs": [],
   "source": [
    "# lets understand about the Gradient and Optimizer\n",
    "from sklearn.datasets import load_boston\n",
    "from sklearn.preprocessing import StandardScaler #normalization of data\n",
    "import numpy as np\n",
    "from datetime import datetime\n",
    "tf.reset_default_graph()  #resetting to set new graph"
   ]
  },
  {
   "cell_type": "code",
   "execution_count": 40,
   "metadata": {},
   "outputs": [],
   "source": [
    "tf.reset_default_graph()"
   ]
  },
  {
   "cell_type": "code",
   "execution_count": 41,
   "metadata": {},
   "outputs": [],
   "source": [
    "n_epochs = 4000\n",
    "learning_rate = 0.01"
   ]
  },
  {
   "cell_type": "code",
   "execution_count": 25,
   "metadata": {},
   "outputs": [],
   "source": [
    "# will load the boston data now and then we will normalize iter\n",
    "boston_data = load_boston()\n",
    "m,n = boston_data.data.shape\n",
    "scaler = StandardScaler()\n",
    "scaled_boston_data = scaler.fit_transform(boston_data.data)\n",
    "scaled_boston_data_plus_bias = np.c_[np.ones((m,1)),scaled_boston_data]\n"
   ]
  },
  {
   "cell_type": "code",
   "execution_count": 49,
   "metadata": {},
   "outputs": [],
   "source": [
    "# Creating the directory name\n",
    "now = datetime.utcnow().strftime(\"%Y%m%d%H%%M%S\")\n",
    "root_dir = \"tf_logs/\"\n",
    "log_dir = \"{}/run-{}\".format(root_dir, now)"
   ]
  },
  {
   "cell_type": "code",
   "execution_count": 26,
   "metadata": {},
   "outputs": [],
   "source": [
    "# Creating nodes for holding the data\n",
    "X = tf.constant(scaled_boston_data_plus_bias,dtype=tf.float32,name='X')\n",
    "Y = tf.constant(boston_data.target.reshape(-1,1),dtype=tf.float32,name='Y')\n",
    "w = tf.Variable(tf.random_uniform([n+1,1],-1,1),name='weights')"
   ]
  },
  {
   "cell_type": "code",
   "execution_count": 29,
   "metadata": {},
   "outputs": [],
   "source": [
    "# Calculating the Error\n",
    "y_pred = tf.matmul(X,w,name='predictions')\n",
    "error = y_pred-Y\n",
    "mse = tf.reduce_mean(tf.square(error,name='mse'))"
   ]
  },
  {
   "cell_type": "code",
   "execution_count": 31,
   "metadata": {},
   "outputs": [],
   "source": [
    "# Optimiser \n",
    "optimizer = tf.train.GradientDescentOptimizer(learning_rate=learning_rate)"
   ]
  },
  {
   "cell_type": "code",
   "execution_count": 32,
   "metadata": {},
   "outputs": [],
   "source": [
    "# Optimising the training errors\n",
    "training_op = optimizer.minimize(mse)"
   ]
  },
  {
   "cell_type": "code",
   "execution_count": null,
   "metadata": {},
   "outputs": [],
   "source": [
    "# Initializing the Variables of the Computational Graph\n",
    "init = tf.global_variables_initializer()"
   ]
  },
  {
   "cell_type": "code",
   "execution_count": null,
   "metadata": {},
   "outputs": [],
   "source": [
    "# Information to create the logs\n",
    "mse_summary = tf.summary.scalar('MSE',mse)\n",
    "file_writer = tf.summary.FileWriter(log_dir, tf.get_default_graph())\n",
    "\n",
    "# Initializing the Variables of the Computational Graph\n",
    "init = tf.global_variables_initializer()\n",
    "\n",
    "with tf.Session() as sess:\n",
    "    sess.run(init)\n",
    "    for epoch in range(n_epochs):\n",
    "        if (epoch%10 == 0):\n",
    "            summary_str = mse_summary.eval()\n",
    "            file_writer.add_summary(summary_str,epoch)\n",
    "            print((\"Epoch\",epoch,\"MSE\",mse.eval()))\n",
    "        sess.run(training_op)\n",
    "    "
   ]
  }
 ],
 "metadata": {
  "kernelspec": {
   "display_name": "Python 3",
   "language": "python",
   "name": "python3"
  },
  "language_info": {
   "codemirror_mode": {
    "name": "ipython",
    "version": 3
   },
   "file_extension": ".py",
   "mimetype": "text/x-python",
   "name": "python",
   "nbconvert_exporter": "python",
   "pygments_lexer": "ipython3",
   "version": "3.6.4"
  }
 },
 "nbformat": 4,
 "nbformat_minor": 2
}
