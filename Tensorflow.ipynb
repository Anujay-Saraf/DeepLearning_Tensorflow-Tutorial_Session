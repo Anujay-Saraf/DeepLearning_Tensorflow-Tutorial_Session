{
 "cells": [
  {
   "cell_type": "code",
   "execution_count": 1,
   "metadata": {},
   "outputs": [
    {
     "name": "stderr",
     "output_type": "stream",
     "text": [
      "C:\\Program Files\\Anaconda3\\lib\\site-packages\\h5py\\__init__.py:36: FutureWarning: Conversion of the second argument of issubdtype from `float` to `np.floating` is deprecated. In future, it will be treated as `np.float64 == np.dtype(float).type`.\n",
      "  from ._conv import register_converters as _register_converters\n"
     ]
    }
   ],
   "source": [
    "import tensorflow as tf"
   ]
  },
  {
   "cell_type": "markdown",
   "metadata": {},
   "source": [
    "### Variable and Placeholder"
   ]
  },
  {
   "cell_type": "code",
   "execution_count": null,
   "metadata": {},
   "outputs": [],
   "source": [
    "x = tf.Variable(4)  # Variable\n",
    "x = tf.assign(x,2) \n",
    "x"
   ]
  },
  {
   "cell_type": "code",
   "execution_count": null,
   "metadata": {},
   "outputs": [],
   "source": [
    "holder1 = tf.placeholder(tf.float32)\n",
    "holder_sum = holder1+2\n",
    "holder_sum"
   ]
  },
  {
   "cell_type": "markdown",
   "metadata": {},
   "source": [
    "# constant"
   ]
  },
  {
   "cell_type": "code",
   "execution_count": null,
   "metadata": {},
   "outputs": [],
   "source": [
    "const1 = tf.constant(44)\n",
    "const1"
   ]
  },
  {
   "cell_type": "markdown",
   "metadata": {},
   "source": [
    "# Session"
   ]
  },
  {
   "cell_type": "code",
   "execution_count": null,
   "metadata": {},
   "outputs": [],
   "source": [
    "# a computational graph is use to be created using tensorflow and sensed by session\n",
    "# lets see session to compute variables and constant then we will compute the graph\n",
    "\n",
    "#firstly compute the variables\n",
    "init =tf.global_variables_initializer()\n",
    "with tf.Session() as sess:\n",
    "    sess.run(init)\n",
    "    print(sess.run(x))"
   ]
  },
  {
   "cell_type": "code",
   "execution_count": null,
   "metadata": {},
   "outputs": [],
   "source": [
    "# lets compute the placeholder\n",
    "init =tf.global_variables_initializer()\n",
    "with tf.Session() as sess:\n",
    "    sess.run(init)\n",
    "    print(sess.run(holder_sum,feed_dict={holder1 :5}))"
   ]
  },
  {
   "cell_type": "code",
   "execution_count": null,
   "metadata": {},
   "outputs": [],
   "source": [
    "# lets compute the constant\n",
    "init =tf.global_variables_initializer()\n",
    "with tf.Session() as sess:\n",
    "    sess.run(init)\n",
    "    print(sess.run(const1))"
   ]
  },
  {
   "cell_type": "markdown",
   "metadata": {},
   "source": [
    "# Gradient and Optimizer"
   ]
  },
  {
   "cell_type": "code",
   "execution_count": null,
   "metadata": {},
   "outputs": [],
   "source": [
    "# lets understand about the Gradient and Optimizer\n",
    "from sklearn.datasets import load_boston\n",
    "from sklearn.preprocessing import StandardScaler #normalization of data\n",
    "import numpy as np\n",
    "tf.reset_default_graph()  #resetting to set new graph"
   ]
  },
  {
   "cell_type": "code",
   "execution_count": null,
   "metadata": {},
   "outputs": [],
   "source": [
    "# will load the boston data now and then we will normalize iter\n",
    "boston_data = load_boston()\n",
    "m,n = boston_data.data.shape\n",
    "scaler = StandardScaler()\n",
    "scaled_boston_data = scaler.fit_transform(boston_data.data)\n",
    "scaled_boston_data_plus_bias = np.c_[np.ones((m,1)),scaled_boston_data]\n"
   ]
  },
  {
   "cell_type": "code",
   "execution_count": null,
   "metadata": {},
   "outputs": [],
   "source": [
    "# Creating nodes for holding the data\n",
    "X = tf.constant(scaled_boston_data_plus_bias,dtype=tf.float32,name='X')\n",
    "Y = tf.constant(boston_data.target.reshape(-1,1),dtype=tf.float32,name='Y')\n",
    "w = tf.Variable(tf.random_uniform([n+1,1],-1,1),name='weights')"
   ]
  },
  {
   "cell_type": "code",
   "execution_count": null,
   "metadata": {},
   "outputs": [],
   "source": [
    "# Calculating the Error\n",
    "y_pred = tf.matmul(X,w,name='predictions')\n",
    "error = y_pred-Y\n",
    "mse = tf.reduce_mean(tf.square(error,name='mse'))"
   ]
  },
  {
   "cell_type": "code",
   "execution_count": null,
   "metadata": {},
   "outputs": [],
   "source": [
    "# Optimiser \n",
    "optimizer = tf.train.GradientDescentOptimizer(learning_rate=0.01)"
   ]
  },
  {
   "cell_type": "code",
   "execution_count": null,
   "metadata": {},
   "outputs": [],
   "source": [
    "# Optimising the training errors\n",
    "training_op = optimizer.minimize(mse)"
   ]
  },
  {
   "cell_type": "code",
   "execution_count": null,
   "metadata": {},
   "outputs": [],
   "source": [
    "# Initializing the Variables of the Computational Graph\n",
    "init = tf.global_variables_initializer()"
   ]
  },
  {
   "cell_type": "code",
   "execution_count": null,
   "metadata": {},
   "outputs": [],
   "source": [
    "# Running the Computation graph\n",
    "with tf.Session() as sess:\n",
    "    sess.run(init)\n",
    "    for epoch in range(1000):\n",
    "        if (epoch%100 == 0):\n",
    "            print((\"Epoch\",epoch,\"MSE\",mse.eval()))\n",
    "        sess.run(training_op)\n",
    "    best_weights = w.eval()\n",
    "    print(best_weights)"
   ]
  },
  {
   "cell_type": "markdown",
   "metadata": {},
   "source": [
    "#  Managing the graphs"
   ]
  },
  {
   "cell_type": "code",
   "execution_count": null,
   "metadata": {},
   "outputs": [],
   "source": [
    "x1 =  tf.Variable(4)\n",
    "x1.graph is tf.get_default_graph()"
   ]
  },
  {
   "cell_type": "code",
   "execution_count": null,
   "metadata": {},
   "outputs": [],
   "source": [
    "graph1 = tf.Graph()\n",
    "with graph1.as_default():\n",
    "    x2 = tf.Variable(411)"
   ]
  },
  {
   "cell_type": "code",
   "execution_count": null,
   "metadata": {},
   "outputs": [],
   "source": [
    "x2.graph is tf.get_default_graph()"
   ]
  },
  {
   "cell_type": "markdown",
   "metadata": {},
   "source": [
    "# Tensorboard"
   ]
  },
  {
   "cell_type": "markdown",
   "metadata": {},
   "source": [
    "Why we use Tensorboard\n",
    "\n",
    "Used for visualizing the Tensorflow Computational graph build by Tensorflow\n",
    "Understand the different scaler processes like MSE by every epoch\n"
   ]
  },
  {
   "cell_type": "code",
   "execution_count": 2,
   "metadata": {},
   "outputs": [],
   "source": [
    "# lets understand about the Gradient and Optimizer\n",
    "from sklearn.datasets import load_boston\n",
    "from sklearn.preprocessing import StandardScaler #normalization of data\n",
    "import numpy as np\n",
    "from datetime import datetime\n",
    "tf.reset_default_graph()  #resetting to set new graph"
   ]
  },
  {
   "cell_type": "code",
   "execution_count": 3,
   "metadata": {},
   "outputs": [],
   "source": [
    "tf.reset_default_graph()"
   ]
  },
  {
   "cell_type": "code",
   "execution_count": 4,
   "metadata": {},
   "outputs": [],
   "source": [
    "n_epochs = 4000\n",
    "learning_rate = 0.01"
   ]
  },
  {
   "cell_type": "code",
   "execution_count": 5,
   "metadata": {},
   "outputs": [],
   "source": [
    "# will load the boston data now and then we will normalize iter\n",
    "boston_data = load_boston()\n",
    "m,n = boston_data.data.shape\n",
    "scaler = StandardScaler()\n",
    "scaled_boston_data = scaler.fit_transform(boston_data.data)\n",
    "scaled_boston_data_plus_bias = np.c_[np.ones((m,1)),scaled_boston_data]\n"
   ]
  },
  {
   "cell_type": "code",
   "execution_count": 13,
   "metadata": {},
   "outputs": [],
   "source": [
    "# Creating the directory name\n",
    "now = datetime.utcnow().strftime(\"%Y%m%d%H%%M%S\")\n",
    "root_dir = \"tf_logs/\"\n",
    "logdir = \"{}/run-{}\".format(root_dir, now)"
   ]
  },
  {
   "cell_type": "code",
   "execution_count": 7,
   "metadata": {},
   "outputs": [],
   "source": [
    "# Creating nodes for holding the data\n",
    "X = tf.constant(scaled_boston_data_plus_bias,dtype=tf.float32,name='X')\n",
    "Y = tf.constant(boston_data.target.reshape(-1,1),dtype=tf.float32,name='Y')\n",
    "w = tf.Variable(tf.random_uniform([n+1,1],-1,1),name='weights')"
   ]
  },
  {
   "cell_type": "code",
   "execution_count": 8,
   "metadata": {},
   "outputs": [],
   "source": [
    "# Calculating the Error\n",
    "y_pred = tf.matmul(X,w,name='predictions')\n",
    "error = y_pred-Y\n",
    "mse = tf.reduce_mean(tf.square(error,name='mse'))"
   ]
  },
  {
   "cell_type": "code",
   "execution_count": 9,
   "metadata": {},
   "outputs": [],
   "source": [
    "# Optimiser \n",
    "optimizer = tf.train.GradientDescentOptimizer(learning_rate=learning_rate)"
   ]
  },
  {
   "cell_type": "code",
   "execution_count": 10,
   "metadata": {},
   "outputs": [],
   "source": [
    "# Optimising the training errors\n",
    "training_op = optimizer.minimize(mse)"
   ]
  },
  {
   "cell_type": "code",
   "execution_count": 14,
   "metadata": {},
   "outputs": [
    {
     "name": "stdout",
     "output_type": "stream",
     "text": [
      "('Epoch', 0, 'MSE', 634.7914)\n",
      "('Epoch', 10, 'MSE', 411.8598)\n",
      "('Epoch', 20, 'MSE', 280.35382)\n",
      "('Epoch', 30, 'MSE', 194.25452)\n",
      "('Epoch', 40, 'MSE', 137.1221)\n",
      "('Epoch', 50, 'MSE', 99.11715)\n",
      "('Epoch', 60, 'MSE', 73.80419)\n",
      "('Epoch', 70, 'MSE', 56.924908)\n",
      "('Epoch', 80, 'MSE', 45.65512)\n",
      "('Epoch', 90, 'MSE', 38.119663)\n",
      "('Epoch', 100, 'MSE', 33.072296)\n",
      "('Epoch', 110, 'MSE', 29.684132)\n",
      "('Epoch', 120, 'MSE', 27.403374)\n",
      "('Epoch', 130, 'MSE', 25.862505)\n",
      "('Epoch', 140, 'MSE', 24.816586)\n",
      "('Epoch', 150, 'MSE', 24.102182)\n",
      "('Epoch', 160, 'MSE', 23.610218)\n",
      "('Epoch', 170, 'MSE', 23.267843)\n",
      "('Epoch', 180, 'MSE', 23.026356)\n",
      "('Epoch', 190, 'MSE', 22.853144)\n",
      "('Epoch', 200, 'MSE', 22.726383)\n",
      "('Epoch', 210, 'MSE', 22.631414)\n",
      "('Epoch', 220, 'MSE', 22.55839)\n",
      "('Epoch', 230, 'MSE', 22.500666)\n",
      "('Epoch', 240, 'MSE', 22.453766)\n",
      "('Epoch', 250, 'MSE', 22.414635)\n",
      "('Epoch', 260, 'MSE', 22.381203)\n",
      "('Epoch', 270, 'MSE', 22.35204)\n",
      "('Epoch', 280, 'MSE', 22.32616)\n",
      "('Epoch', 290, 'MSE', 22.302864)\n",
      "('Epoch', 300, 'MSE', 22.281664)\n",
      "('Epoch', 310, 'MSE', 22.262207)\n",
      "('Epoch', 320, 'MSE', 22.244228)\n",
      "('Epoch', 330, 'MSE', 22.227526)\n",
      "('Epoch', 340, 'MSE', 22.211952)\n",
      "('Epoch', 350, 'MSE', 22.197388)\n",
      "('Epoch', 360, 'MSE', 22.183737)\n",
      "('Epoch', 370, 'MSE', 22.170906)\n",
      "('Epoch', 380, 'MSE', 22.158836)\n",
      "('Epoch', 390, 'MSE', 22.147465)\n",
      "('Epoch', 400, 'MSE', 22.136745)\n",
      "('Epoch', 410, 'MSE', 22.126621)\n",
      "('Epoch', 420, 'MSE', 22.117052)\n",
      "('Epoch', 430, 'MSE', 22.108007)\n",
      "('Epoch', 440, 'MSE', 22.099443)\n",
      "('Epoch', 450, 'MSE', 22.091331)\n",
      "('Epoch', 460, 'MSE', 22.083643)\n",
      "('Epoch', 470, 'MSE', 22.076347)\n",
      "('Epoch', 480, 'MSE', 22.069424)\n",
      "('Epoch', 490, 'MSE', 22.06285)\n",
      "('Epoch', 500, 'MSE', 22.0566)\n",
      "('Epoch', 510, 'MSE', 22.050657)\n",
      "('Epoch', 520, 'MSE', 22.045002)\n",
      "('Epoch', 530, 'MSE', 22.039621)\n",
      "('Epoch', 540, 'MSE', 22.034489)\n",
      "('Epoch', 550, 'MSE', 22.0296)\n",
      "('Epoch', 560, 'MSE', 22.024931)\n",
      "('Epoch', 570, 'MSE', 22.020481)\n",
      "('Epoch', 580, 'MSE', 22.016224)\n",
      "('Epoch', 590, 'MSE', 22.012163)\n",
      "('Epoch', 600, 'MSE', 22.008278)\n",
      "('Epoch', 610, 'MSE', 22.004559)\n",
      "('Epoch', 620, 'MSE', 22.001001)\n",
      "('Epoch', 630, 'MSE', 21.997593)\n",
      "('Epoch', 640, 'MSE', 21.994326)\n",
      "('Epoch', 650, 'MSE', 21.991196)\n",
      "('Epoch', 660, 'MSE', 21.988192)\n",
      "('Epoch', 670, 'MSE', 21.985312)\n",
      "('Epoch', 680, 'MSE', 21.982546)\n",
      "('Epoch', 690, 'MSE', 21.979883)\n",
      "('Epoch', 700, 'MSE', 21.97733)\n",
      "('Epoch', 710, 'MSE', 21.974876)\n",
      "('Epoch', 720, 'MSE', 21.972513)\n",
      "('Epoch', 730, 'MSE', 21.970236)\n",
      "('Epoch', 740, 'MSE', 21.968048)\n",
      "('Epoch', 750, 'MSE', 21.965937)\n",
      "('Epoch', 760, 'MSE', 21.963902)\n",
      "('Epoch', 770, 'MSE', 21.961945)\n",
      "('Epoch', 780, 'MSE', 21.960052)\n",
      "('Epoch', 790, 'MSE', 21.958231)\n",
      "('Epoch', 800, 'MSE', 21.95647)\n",
      "('Epoch', 810, 'MSE', 21.954775)\n",
      "('Epoch', 820, 'MSE', 21.95313)\n",
      "('Epoch', 830, 'MSE', 21.951544)\n",
      "('Epoch', 840, 'MSE', 21.95001)\n",
      "('Epoch', 850, 'MSE', 21.948534)\n",
      "('Epoch', 860, 'MSE', 21.947104)\n",
      "('Epoch', 870, 'MSE', 21.945717)\n",
      "('Epoch', 880, 'MSE', 21.944372)\n",
      "('Epoch', 890, 'MSE', 21.943075)\n",
      "('Epoch', 900, 'MSE', 21.941822)\n",
      "('Epoch', 910, 'MSE', 21.940605)\n",
      "('Epoch', 920, 'MSE', 21.939426)\n",
      "('Epoch', 930, 'MSE', 21.93828)\n",
      "('Epoch', 940, 'MSE', 21.937174)\n",
      "('Epoch', 950, 'MSE', 21.936102)\n",
      "('Epoch', 960, 'MSE', 21.935066)\n",
      "('Epoch', 970, 'MSE', 21.934055)\n",
      "('Epoch', 980, 'MSE', 21.933077)\n",
      "('Epoch', 990, 'MSE', 21.932125)\n",
      "('Epoch', 1000, 'MSE', 21.931206)\n",
      "('Epoch', 1010, 'MSE', 21.930311)\n",
      "('Epoch', 1020, 'MSE', 21.929441)\n",
      "('Epoch', 1030, 'MSE', 21.9286)\n",
      "('Epoch', 1040, 'MSE', 21.927784)\n",
      "('Epoch', 1050, 'MSE', 21.926983)\n",
      "('Epoch', 1060, 'MSE', 21.926218)\n",
      "('Epoch', 1070, 'MSE', 21.925467)\n",
      "('Epoch', 1080, 'MSE', 21.924736)\n",
      "('Epoch', 1090, 'MSE', 21.924028)\n",
      "('Epoch', 1100, 'MSE', 21.923338)\n",
      "('Epoch', 1110, 'MSE', 21.922672)\n",
      "('Epoch', 1120, 'MSE', 21.922022)\n",
      "('Epoch', 1130, 'MSE', 21.921387)\n",
      "('Epoch', 1140, 'MSE', 21.920773)\n",
      "('Epoch', 1150, 'MSE', 21.920176)\n",
      "('Epoch', 1160, 'MSE', 21.919594)\n",
      "('Epoch', 1170, 'MSE', 21.919025)\n",
      "('Epoch', 1180, 'MSE', 21.918474)\n",
      "('Epoch', 1190, 'MSE', 21.91794)\n",
      "('Epoch', 1200, 'MSE', 21.917421)\n",
      "('Epoch', 1210, 'MSE', 21.916918)\n",
      "('Epoch', 1220, 'MSE', 21.916426)\n",
      "('Epoch', 1230, 'MSE', 21.915941)\n",
      "('Epoch', 1240, 'MSE', 21.915476)\n",
      "('Epoch', 1250, 'MSE', 21.915018)\n",
      "('Epoch', 1260, 'MSE', 21.914577)\n",
      "('Epoch', 1270, 'MSE', 21.914148)\n",
      "('Epoch', 1280, 'MSE', 21.913727)\n",
      "('Epoch', 1290, 'MSE', 21.91332)\n",
      "('Epoch', 1300, 'MSE', 21.912922)\n",
      "('Epoch', 1310, 'MSE', 21.912537)\n",
      "('Epoch', 1320, 'MSE', 21.912159)\n",
      "('Epoch', 1330, 'MSE', 21.91179)\n",
      "('Epoch', 1340, 'MSE', 21.911436)\n",
      "('Epoch', 1350, 'MSE', 21.911085)\n",
      "('Epoch', 1360, 'MSE', 21.91075)\n",
      "('Epoch', 1370, 'MSE', 21.910414)\n",
      "('Epoch', 1380, 'MSE', 21.910097)\n",
      "('Epoch', 1390, 'MSE', 21.909784)\n",
      "('Epoch', 1400, 'MSE', 21.909477)\n",
      "('Epoch', 1410, 'MSE', 21.90918)\n",
      "('Epoch', 1420, 'MSE', 21.908892)\n",
      "('Epoch', 1430, 'MSE', 21.908607)\n",
      "('Epoch', 1440, 'MSE', 21.908337)\n",
      "('Epoch', 1450, 'MSE', 21.908068)\n",
      "('Epoch', 1460, 'MSE', 21.907806)\n",
      "('Epoch', 1470, 'MSE', 21.907553)\n",
      "('Epoch', 1480, 'MSE', 21.907303)\n",
      "('Epoch', 1490, 'MSE', 21.907064)\n",
      "('Epoch', 1500, 'MSE', 21.906832)\n",
      "('Epoch', 1510, 'MSE', 21.9066)\n",
      "('Epoch', 1520, 'MSE', 21.906374)\n",
      "('Epoch', 1530, 'MSE', 21.906158)\n",
      "('Epoch', 1540, 'MSE', 21.905947)\n",
      "('Epoch', 1550, 'MSE', 21.90574)\n",
      "('Epoch', 1560, 'MSE', 21.905542)\n",
      "('Epoch', 1570, 'MSE', 21.905342)\n",
      "('Epoch', 1580, 'MSE', 21.905153)\n",
      "('Epoch', 1590, 'MSE', 21.90497)\n",
      "('Epoch', 1600, 'MSE', 21.904789)\n",
      "('Epoch', 1610, 'MSE', 21.904612)\n",
      "('Epoch', 1620, 'MSE', 21.904438)\n",
      "('Epoch', 1630, 'MSE', 21.90427)\n",
      "('Epoch', 1640, 'MSE', 21.904106)\n",
      "('Epoch', 1650, 'MSE', 21.903948)\n",
      "('Epoch', 1660, 'MSE', 21.903791)\n",
      "('Epoch', 1670, 'MSE', 21.903639)\n",
      "('Epoch', 1680, 'MSE', 21.903492)\n",
      "('Epoch', 1690, 'MSE', 21.903349)\n",
      "('Epoch', 1700, 'MSE', 21.903208)\n",
      "('Epoch', 1710, 'MSE', 21.90307)\n",
      "('Epoch', 1720, 'MSE', 21.902937)\n",
      "('Epoch', 1730, 'MSE', 21.90281)\n",
      "('Epoch', 1740, 'MSE', 21.902681)\n",
      "('Epoch', 1750, 'MSE', 21.902557)\n",
      "('Epoch', 1760, 'MSE', 21.902441)\n",
      "('Epoch', 1770, 'MSE', 21.90232)\n",
      "('Epoch', 1780, 'MSE', 21.902205)\n",
      "('Epoch', 1790, 'MSE', 21.902094)\n",
      "('Epoch', 1800, 'MSE', 21.901987)\n",
      "('Epoch', 1810, 'MSE', 21.901878)\n",
      "('Epoch', 1820, 'MSE', 21.901775)\n",
      "('Epoch', 1830, 'MSE', 21.901676)\n",
      "('Epoch', 1840, 'MSE', 21.901575)\n",
      "('Epoch', 1850, 'MSE', 21.901484)\n",
      "('Epoch', 1860, 'MSE', 21.90139)\n",
      "('Epoch', 1870, 'MSE', 21.901299)\n",
      "('Epoch', 1880, 'MSE', 21.90121)\n",
      "('Epoch', 1890, 'MSE', 21.901125)\n",
      "('Epoch', 1900, 'MSE', 21.901041)\n",
      "('Epoch', 1910, 'MSE', 21.900957)\n",
      "('Epoch', 1920, 'MSE', 21.90088)\n",
      "('Epoch', 1930, 'MSE', 21.9008)\n",
      "('Epoch', 1940, 'MSE', 21.900724)\n",
      "('Epoch', 1950, 'MSE', 21.90065)\n",
      "('Epoch', 1960, 'MSE', 21.900578)\n",
      "('Epoch', 1970, 'MSE', 21.900509)\n",
      "('Epoch', 1980, 'MSE', 21.900438)\n",
      "('Epoch', 1990, 'MSE', 21.900373)\n",
      "('Epoch', 2000, 'MSE', 21.900307)\n",
      "('Epoch', 2010, 'MSE', 21.900244)\n",
      "('Epoch', 2020, 'MSE', 21.900183)\n",
      "('Epoch', 2030, 'MSE', 21.900122)\n",
      "('Epoch', 2040, 'MSE', 21.900064)\n",
      "('Epoch', 2050, 'MSE', 21.900007)\n",
      "('Epoch', 2060, 'MSE', 21.899948)\n",
      "('Epoch', 2070, 'MSE', 21.899895)\n",
      "('Epoch', 2080, 'MSE', 21.899841)\n",
      "('Epoch', 2090, 'MSE', 21.89979)\n",
      "('Epoch', 2100, 'MSE', 21.89974)\n",
      "('Epoch', 2110, 'MSE', 21.899693)\n",
      "('Epoch', 2120, 'MSE', 21.899645)\n",
      "('Epoch', 2130, 'MSE', 21.899595)\n",
      "('Epoch', 2140, 'MSE', 21.899553)\n",
      "('Epoch', 2150, 'MSE', 21.899506)\n",
      "('Epoch', 2160, 'MSE', 21.899462)\n",
      "('Epoch', 2170, 'MSE', 21.89942)\n",
      "('Epoch', 2180, 'MSE', 21.89938)\n",
      "('Epoch', 2190, 'MSE', 21.899338)\n",
      "('Epoch', 2200, 'MSE', 21.899302)\n",
      "('Epoch', 2210, 'MSE', 21.899263)\n",
      "('Epoch', 2220, 'MSE', 21.899225)\n",
      "('Epoch', 2230, 'MSE', 21.899189)\n",
      "('Epoch', 2240, 'MSE', 21.89915)\n",
      "('Epoch', 2250, 'MSE', 21.899117)\n",
      "('Epoch', 2260, 'MSE', 21.899086)\n",
      "('Epoch', 2270, 'MSE', 21.899054)\n",
      "('Epoch', 2280, 'MSE', 21.89902)\n",
      "('Epoch', 2290, 'MSE', 21.898985)\n",
      "('Epoch', 2300, 'MSE', 21.898958)\n",
      "('Epoch', 2310, 'MSE', 21.89893)\n",
      "('Epoch', 2320, 'MSE', 21.898901)\n",
      "('Epoch', 2330, 'MSE', 21.898872)\n",
      "('Epoch', 2340, 'MSE', 21.898846)\n",
      "('Epoch', 2350, 'MSE', 21.898817)\n",
      "('Epoch', 2360, 'MSE', 21.89879)\n",
      "('Epoch', 2370, 'MSE', 21.898766)\n",
      "('Epoch', 2380, 'MSE', 21.898739)\n",
      "('Epoch', 2390, 'MSE', 21.898722)\n",
      "('Epoch', 2400, 'MSE', 21.898697)\n",
      "('Epoch', 2410, 'MSE', 21.898668)\n",
      "('Epoch', 2420, 'MSE', 21.898647)\n",
      "('Epoch', 2430, 'MSE', 21.898624)\n",
      "('Epoch', 2440, 'MSE', 21.898603)\n",
      "('Epoch', 2450, 'MSE', 21.898586)\n",
      "('Epoch', 2460, 'MSE', 21.898565)\n",
      "('Epoch', 2470, 'MSE', 21.898546)\n",
      "('Epoch', 2480, 'MSE', 21.898525)\n",
      "('Epoch', 2490, 'MSE', 21.898506)\n",
      "('Epoch', 2500, 'MSE', 21.898489)\n",
      "('Epoch', 2510, 'MSE', 21.89847)\n",
      "('Epoch', 2520, 'MSE', 21.89845)\n",
      "('Epoch', 2530, 'MSE', 21.898436)\n",
      "('Epoch', 2540, 'MSE', 21.898422)\n",
      "('Epoch', 2550, 'MSE', 21.898403)\n",
      "('Epoch', 2560, 'MSE', 21.89839)\n",
      "('Epoch', 2570, 'MSE', 21.898373)\n",
      "('Epoch', 2580, 'MSE', 21.89836)\n",
      "('Epoch', 2590, 'MSE', 21.898344)\n",
      "('Epoch', 2600, 'MSE', 21.898329)\n",
      "('Epoch', 2610, 'MSE', 21.898315)\n",
      "('Epoch', 2620, 'MSE', 21.898304)\n",
      "('Epoch', 2630, 'MSE', 21.89829)\n",
      "('Epoch', 2640, 'MSE', 21.898275)\n",
      "('Epoch', 2650, 'MSE', 21.898262)\n",
      "('Epoch', 2660, 'MSE', 21.898252)\n",
      "('Epoch', 2670, 'MSE', 21.898241)\n",
      "('Epoch', 2680, 'MSE', 21.898226)\n",
      "('Epoch', 2690, 'MSE', 21.898218)\n",
      "('Epoch', 2700, 'MSE', 21.898209)\n",
      "('Epoch', 2710, 'MSE', 21.898195)\n",
      "('Epoch', 2720, 'MSE', 21.898186)\n",
      "('Epoch', 2730, 'MSE', 21.898174)\n",
      "('Epoch', 2740, 'MSE', 21.898163)\n",
      "('Epoch', 2750, 'MSE', 21.898155)\n",
      "('Epoch', 2760, 'MSE', 21.898146)\n",
      "('Epoch', 2770, 'MSE', 21.898136)\n",
      "('Epoch', 2780, 'MSE', 21.898125)\n",
      "('Epoch', 2790, 'MSE', 21.898117)\n",
      "('Epoch', 2800, 'MSE', 21.898108)\n",
      "('Epoch', 2810, 'MSE', 21.898104)\n",
      "('Epoch', 2820, 'MSE', 21.898094)\n",
      "('Epoch', 2830, 'MSE', 21.898087)\n",
      "('Epoch', 2840, 'MSE', 21.898077)\n",
      "('Epoch', 2850, 'MSE', 21.89807)\n",
      "('Epoch', 2860, 'MSE', 21.898066)\n",
      "('Epoch', 2870, 'MSE', 21.898056)\n",
      "('Epoch', 2880, 'MSE', 21.898046)\n",
      "('Epoch', 2890, 'MSE', 21.89804)\n",
      "('Epoch', 2900, 'MSE', 21.898037)\n",
      "('Epoch', 2910, 'MSE', 21.898027)\n",
      "('Epoch', 2920, 'MSE', 21.898024)\n",
      "('Epoch', 2930, 'MSE', 21.898016)\n",
      "('Epoch', 2940, 'MSE', 21.898008)\n",
      "('Epoch', 2950, 'MSE', 21.898005)\n",
      "('Epoch', 2960, 'MSE', 21.897997)\n",
      "('Epoch', 2970, 'MSE', 21.897995)\n",
      "('Epoch', 2980, 'MSE', 21.897987)\n",
      "('Epoch', 2990, 'MSE', 21.897985)\n",
      "('Epoch', 3000, 'MSE', 21.897976)\n"
     ]
    },
    {
     "name": "stdout",
     "output_type": "stream",
     "text": [
      "('Epoch', 3010, 'MSE', 21.897972)\n",
      "('Epoch', 3020, 'MSE', 21.89797)\n",
      "('Epoch', 3030, 'MSE', 21.897963)\n",
      "('Epoch', 3040, 'MSE', 21.897959)\n",
      "('Epoch', 3050, 'MSE', 21.897955)\n",
      "('Epoch', 3060, 'MSE', 21.89795)\n",
      "('Epoch', 3070, 'MSE', 21.897945)\n",
      "('Epoch', 3080, 'MSE', 21.897943)\n",
      "('Epoch', 3090, 'MSE', 21.897938)\n",
      "('Epoch', 3100, 'MSE', 21.897934)\n",
      "('Epoch', 3110, 'MSE', 21.897928)\n",
      "('Epoch', 3120, 'MSE', 21.897924)\n",
      "('Epoch', 3130, 'MSE', 21.89792)\n",
      "('Epoch', 3140, 'MSE', 21.897923)\n",
      "('Epoch', 3150, 'MSE', 21.897917)\n",
      "('Epoch', 3160, 'MSE', 21.897913)\n",
      "('Epoch', 3170, 'MSE', 21.897907)\n",
      "('Epoch', 3180, 'MSE', 21.897907)\n",
      "('Epoch', 3190, 'MSE', 21.897902)\n",
      "('Epoch', 3200, 'MSE', 21.897905)\n",
      "('Epoch', 3210, 'MSE', 21.897896)\n",
      "('Epoch', 3220, 'MSE', 21.897894)\n",
      "('Epoch', 3230, 'MSE', 21.89789)\n",
      "('Epoch', 3240, 'MSE', 21.89789)\n",
      "('Epoch', 3250, 'MSE', 21.897884)\n",
      "('Epoch', 3260, 'MSE', 21.89788)\n",
      "('Epoch', 3270, 'MSE', 21.897879)\n",
      "('Epoch', 3280, 'MSE', 21.897877)\n",
      "('Epoch', 3290, 'MSE', 21.897877)\n",
      "('Epoch', 3300, 'MSE', 21.897873)\n",
      "('Epoch', 3310, 'MSE', 21.897871)\n",
      "('Epoch', 3320, 'MSE', 21.897865)\n",
      "('Epoch', 3330, 'MSE', 21.897865)\n",
      "('Epoch', 3340, 'MSE', 21.897863)\n",
      "('Epoch', 3350, 'MSE', 21.89786)\n",
      "('Epoch', 3360, 'MSE', 21.897856)\n",
      "('Epoch', 3370, 'MSE', 21.897856)\n",
      "('Epoch', 3380, 'MSE', 21.897854)\n",
      "('Epoch', 3390, 'MSE', 21.897852)\n",
      "('Epoch', 3400, 'MSE', 21.89785)\n",
      "('Epoch', 3410, 'MSE', 21.897848)\n",
      "('Epoch', 3420, 'MSE', 21.897846)\n",
      "('Epoch', 3430, 'MSE', 21.897846)\n",
      "('Epoch', 3440, 'MSE', 21.89784)\n",
      "('Epoch', 3450, 'MSE', 21.89784)\n",
      "('Epoch', 3460, 'MSE', 21.89784)\n",
      "('Epoch', 3470, 'MSE', 21.897839)\n",
      "('Epoch', 3480, 'MSE', 21.897835)\n",
      "('Epoch', 3490, 'MSE', 21.897835)\n",
      "('Epoch', 3500, 'MSE', 21.897835)\n",
      "('Epoch', 3510, 'MSE', 21.897833)\n",
      "('Epoch', 3520, 'MSE', 21.897833)\n",
      "('Epoch', 3530, 'MSE', 21.897827)\n",
      "('Epoch', 3540, 'MSE', 21.897831)\n",
      "('Epoch', 3550, 'MSE', 21.897831)\n",
      "('Epoch', 3560, 'MSE', 21.897827)\n",
      "('Epoch', 3570, 'MSE', 21.897827)\n",
      "('Epoch', 3580, 'MSE', 21.897825)\n",
      "('Epoch', 3590, 'MSE', 21.897823)\n",
      "('Epoch', 3600, 'MSE', 21.897823)\n",
      "('Epoch', 3610, 'MSE', 21.89782)\n",
      "('Epoch', 3620, 'MSE', 21.897821)\n",
      "('Epoch', 3630, 'MSE', 21.897818)\n",
      "('Epoch', 3640, 'MSE', 21.897818)\n",
      "('Epoch', 3650, 'MSE', 21.897818)\n",
      "('Epoch', 3660, 'MSE', 21.897814)\n",
      "('Epoch', 3670, 'MSE', 21.897816)\n",
      "('Epoch', 3680, 'MSE', 21.897816)\n",
      "('Epoch', 3690, 'MSE', 21.897814)\n",
      "('Epoch', 3700, 'MSE', 21.89781)\n",
      "('Epoch', 3710, 'MSE', 21.89781)\n",
      "('Epoch', 3720, 'MSE', 21.897812)\n",
      "('Epoch', 3730, 'MSE', 21.89781)\n",
      "('Epoch', 3740, 'MSE', 21.897812)\n",
      "('Epoch', 3750, 'MSE', 21.897808)\n",
      "('Epoch', 3760, 'MSE', 21.897808)\n",
      "('Epoch', 3770, 'MSE', 21.89781)\n",
      "('Epoch', 3780, 'MSE', 21.897806)\n",
      "('Epoch', 3790, 'MSE', 21.897806)\n",
      "('Epoch', 3800, 'MSE', 21.897802)\n",
      "('Epoch', 3810, 'MSE', 21.897804)\n",
      "('Epoch', 3820, 'MSE', 21.897802)\n",
      "('Epoch', 3830, 'MSE', 21.897802)\n",
      "('Epoch', 3840, 'MSE', 21.8978)\n",
      "('Epoch', 3850, 'MSE', 21.897802)\n",
      "('Epoch', 3860, 'MSE', 21.8978)\n",
      "('Epoch', 3870, 'MSE', 21.897802)\n",
      "('Epoch', 3880, 'MSE', 21.897797)\n",
      "('Epoch', 3890, 'MSE', 21.897799)\n",
      "('Epoch', 3900, 'MSE', 21.897799)\n",
      "('Epoch', 3910, 'MSE', 21.897802)\n",
      "('Epoch', 3920, 'MSE', 21.897802)\n",
      "('Epoch', 3930, 'MSE', 21.897797)\n",
      "('Epoch', 3940, 'MSE', 21.897797)\n",
      "('Epoch', 3950, 'MSE', 21.897797)\n",
      "('Epoch', 3960, 'MSE', 21.897797)\n",
      "('Epoch', 3970, 'MSE', 21.897797)\n",
      "('Epoch', 3980, 'MSE', 21.897795)\n",
      "('Epoch', 3990, 'MSE', 21.897795)\n"
     ]
    }
   ],
   "source": [
    "# Information to create the logs\n",
    "mse_summary = tf.summary.scalar('MSE',mse)\n",
    "file_writer = tf.summary.FileWriter(logdir, tf.get_default_graph())\n",
    "\n",
    "# Initializing the Variables of the Computational Graph\n",
    "init = tf.global_variables_initializer()\n",
    "\n",
    "with tf.Session() as sess:\n",
    "    sess.run(init)\n",
    "    for epoch in range(n_epochs):\n",
    "        if (epoch%10 == 0):\n",
    "            summary_str = mse_summary.eval()\n",
    "            file_writer.add_summary(summary_str,epoch)\n",
    "            print((\"Epoch\",epoch,\"MSE\",mse.eval()))\n",
    "        sess.run(training_op)\n",
    "    "
   ]
  },
  {
   "cell_type": "markdown",
   "metadata": {},
   "source": [
    "# Deep Neural Network"
   ]
  },
  {
   "cell_type": "code",
   "execution_count": 15,
   "metadata": {},
   "outputs": [],
   "source": [
    "from sklearn.datasets import load_breast_cancer"
   ]
  },
  {
   "cell_type": "markdown",
   "metadata": {},
   "source": [
    "## Loading Dataset for DNN"
   ]
  },
  {
   "cell_type": "code",
   "execution_count": 16,
   "metadata": {},
   "outputs": [],
   "source": [
    "# Loading dataset\n",
    "cancer_data = load_breast_cancer()\n",
    "m,n = cancer_data.data.shape\n",
    "\n",
    "# Segregate Training Testing Validation Dataset\n",
    "train_cancer_data = cancer_data.data[0:400]\n",
    "scaled_training_cancer_data = scaler.fit(train_cancer_data)\n",
    "training_cancer_data = cancer_data.target[0:400]\n",
    "\n",
    "validation_cancer_data = cancer_data.data[400:500]\n",
    "scaled_validation_cancer_data = scaler.fit(validation_cancer_data)\n",
    "validation_cancer_data = cancer_data.target[400:500]\n",
    "\n",
    "testing_cancer_data = cancer_data.data[500:569]\n",
    "scaled_testing_cancer_data = scaler.fit(testing_cancer_data)\n",
    "testing_cancer_data = cancer_data.target[500:569]"
   ]
  },
  {
   "cell_type": "markdown",
   "metadata": {},
   "source": [
    "## Building the layers of Neural Network in Tensorflow"
   ]
  },
  {
   "cell_type": "code",
   "execution_count": 22,
   "metadata": {},
   "outputs": [],
   "source": [
    "from tensorflow.contrib.layers import fully_connected, dropout"
   ]
  },
  {
   "cell_type": "code",
   "execution_count": 25,
   "metadata": {},
   "outputs": [],
   "source": [
    "# Setup the number of neurons initialization\n",
    "n_inputs = n\n",
    "n_hidden1 = 40\n",
    "n_hidden2 = 30\n",
    "n_outputs = 2\n",
    "\n",
    "# Placeholders to hold this data\n",
    "X = tf.placeholder(tf.float32, shape = (None, n_inputs), name='X')\n",
    "y = tf.placeholder(tf.int32, shape = (None), name='y')\n",
    "\n",
    "# Weights Initializer\n",
    "he_init = tf.contrib.layers.variance_scaling_initializer()\n",
    "\n",
    "is_training = tf.placeholder(dtype=tf.bool,shape=(), name=\"is_traning\")\n",
    "\n",
    "# Adding a dropout layer\n",
    "keep_prob=0.5\n",
    "\n",
    "with tf.name_scope('dnn'):\n",
    "    X_drop =dropout(X,keep_prob,is_training=is_training)\n",
    "    hidden1 = fully_connected(X_drop,n_hidden1, weights_initializer= he_init,activation_fn=tf.nn.elu,scope='hidden1')\n",
    "    hidden1_drop =dropout(hidden1,keep_prob,is_training=is_training)\n",
    "    hidden2 = fully_connected(hidden1_drop,n_hidden2, weights_initializer= he_init,activation_fn=tf.nn.elu,scope='hidden2')\n",
    "    hidden2_drop =dropout(hidden2,keep_prob,is_training=is_training)\n",
    "    logits = fully_connected(hidden2_drop,n_hidden1, weights_initializer= he_init,activation_fn=tf.nn.elu,scope='output')"
   ]
  },
  {
   "cell_type": "markdown",
   "metadata": {},
   "source": [
    "## Optimizing softmax cross entropy function\n",
    "calculate the loss\n",
    "minimize loss using adam optimizer in back propagation\n",
    "evalution of the accuracy\n",
    "filewrite creation and then visualization of the the same in tensorboard"
   ]
  },
  {
   "cell_type": "code",
   "execution_count": 31,
   "metadata": {},
   "outputs": [],
   "source": [
    "with tf.name_scope(\"loss\"):\n",
    "    xentropy = tf.nn.sparse_softmax_cross_entropy_with_logits(labels=y,logits=logits)\n",
    "    loss = tf.reduce_mean(xentropy,name=\"loss\")\n",
    "    \n",
    "lr = 0.01    \n",
    "with tf.name_scope(\"train\"):\n",
    "    optimizer = tf.train.AdamOptimizer(lr)\n",
    "    training_op = optimizer.minimize(loss)\n",
    "\n",
    "with tf.name_scope(\"eval\"):\n",
    "    correct = tf.nn.in_top_k(logits,y,1)\n",
    "    accuracy = tf.reduce_mean(tf.cast(correct,tf.float32))"
   ]
  },
  {
   "cell_type": "code",
   "execution_count": 34,
   "metadata": {},
   "outputs": [],
   "source": [
    "init = tf.global_variables_initializer()\n",
    "saver = tf.train.Saver() \n",
    "\n",
    "# Information to create the logs\n",
    "mse_summary = tf.summary.scalar('MSE',mse)\n",
    "file_writer = tf.summary.FileWriter(logdir, tf.get_default_graph())"
   ]
  },
  {
   "cell_type": "markdown",
   "metadata": {},
   "source": [
    "## Lets Predict Breasts Cell Bengin or Not"
   ]
  },
  {
   "cell_type": "code",
   "execution_count": 32,
   "metadata": {},
   "outputs": [],
   "source": [
    "n_epochs = 50"
   ]
  },
  {
   "cell_type": "code",
   "execution_count": 36,
   "metadata": {},
   "outputs": [
    {
     "ename": "TypeError",
     "evalue": "float() argument must be a string or a number, not 'StandardScaler'",
     "output_type": "error",
     "traceback": [
      "\u001b[1;31m---------------------------------------------------------------------------\u001b[0m",
      "\u001b[1;31mTypeError\u001b[0m                                 Traceback (most recent call last)",
      "\u001b[1;32m<ipython-input-36-61759407adec>\u001b[0m in \u001b[0;36m<module>\u001b[1;34m()\u001b[0m\n\u001b[0;32m      2\u001b[0m     \u001b[0minit\u001b[0m\u001b[1;33m.\u001b[0m\u001b[0mrun\u001b[0m\u001b[1;33m(\u001b[0m\u001b[1;33m)\u001b[0m\u001b[1;33m\u001b[0m\u001b[0m\n\u001b[0;32m      3\u001b[0m     \u001b[1;32mfor\u001b[0m \u001b[0mepoch\u001b[0m \u001b[1;32min\u001b[0m \u001b[0mrange\u001b[0m\u001b[1;33m(\u001b[0m\u001b[0mn_epochs\u001b[0m\u001b[1;33m)\u001b[0m\u001b[1;33m:\u001b[0m\u001b[1;33m\u001b[0m\u001b[0m\n\u001b[1;32m----> 4\u001b[1;33m         \u001b[0msess\u001b[0m\u001b[1;33m.\u001b[0m\u001b[0mrun\u001b[0m\u001b[1;33m(\u001b[0m\u001b[0mtraining_op\u001b[0m\u001b[1;33m,\u001b[0m\u001b[0mfeed_dict\u001b[0m\u001b[1;33m=\u001b[0m\u001b[1;33m{\u001b[0m\u001b[0mX\u001b[0m\u001b[1;33m:\u001b[0m \u001b[0mscaled_training_cancer_data\u001b[0m\u001b[1;33m,\u001b[0m\u001b[0my\u001b[0m\u001b[1;33m:\u001b[0m \u001b[0mtraining_cancer_data\u001b[0m\u001b[1;33m,\u001b[0m\u001b[0mis_training\u001b[0m\u001b[1;33m:\u001b[0m \u001b[1;32mTrue\u001b[0m\u001b[1;33m}\u001b[0m\u001b[1;33m)\u001b[0m\u001b[1;33m\u001b[0m\u001b[0m\n\u001b[0m\u001b[0;32m      5\u001b[0m         \u001b[0macc_train\u001b[0m \u001b[1;33m=\u001b[0m \u001b[0maccuracy\u001b[0m\u001b[1;33m.\u001b[0m\u001b[0meval\u001b[0m\u001b[1;33m(\u001b[0m\u001b[0mfeed_dict\u001b[0m\u001b[1;33m=\u001b[0m\u001b[1;33m{\u001b[0m\u001b[0mX\u001b[0m\u001b[1;33m:\u001b[0m \u001b[0mscaled_training_cancer_data\u001b[0m\u001b[1;33m,\u001b[0m\u001b[0my\u001b[0m\u001b[1;33m:\u001b[0m \u001b[0mtraining_cancer_data\u001b[0m\u001b[1;33m,\u001b[0m\u001b[0mis_training\u001b[0m \u001b[1;33m:\u001b[0m  \u001b[1;32mTrue\u001b[0m\u001b[1;33m}\u001b[0m\u001b[1;33m)\u001b[0m\u001b[1;33m\u001b[0m\u001b[0m\n\u001b[0;32m      6\u001b[0m         \u001b[0macc_val\u001b[0m \u001b[1;33m=\u001b[0m \u001b[0maccuracy\u001b[0m\u001b[1;33m.\u001b[0m\u001b[0meval\u001b[0m\u001b[1;33m(\u001b[0m\u001b[0mfeed_dict\u001b[0m\u001b[1;33m=\u001b[0m\u001b[1;33m{\u001b[0m\u001b[0mX\u001b[0m\u001b[1;33m:\u001b[0m \u001b[0mscaled_validation_cancer_data\u001b[0m\u001b[1;33m,\u001b[0m\u001b[0my\u001b[0m\u001b[1;33m:\u001b[0m \u001b[0mvalidation_cancer_data\u001b[0m\u001b[1;33m,\u001b[0m\u001b[0mis_training\u001b[0m \u001b[1;33m:\u001b[0m\u001b[1;32mFalse\u001b[0m\u001b[1;33m}\u001b[0m\u001b[1;33m)\u001b[0m\u001b[1;33m\u001b[0m\u001b[0m\n",
      "\u001b[1;32mC:\\Program Files\\Anaconda3\\lib\\site-packages\\tensorflow\\python\\client\\session.py\u001b[0m in \u001b[0;36mrun\u001b[1;34m(self, fetches, feed_dict, options, run_metadata)\u001b[0m\n\u001b[0;32m    875\u001b[0m     \u001b[1;32mtry\u001b[0m\u001b[1;33m:\u001b[0m\u001b[1;33m\u001b[0m\u001b[0m\n\u001b[0;32m    876\u001b[0m       result = self._run(None, fetches, feed_dict, options_ptr,\n\u001b[1;32m--> 877\u001b[1;33m                          run_metadata_ptr)\n\u001b[0m\u001b[0;32m    878\u001b[0m       \u001b[1;32mif\u001b[0m \u001b[0mrun_metadata\u001b[0m\u001b[1;33m:\u001b[0m\u001b[1;33m\u001b[0m\u001b[0m\n\u001b[0;32m    879\u001b[0m         \u001b[0mproto_data\u001b[0m \u001b[1;33m=\u001b[0m \u001b[0mtf_session\u001b[0m\u001b[1;33m.\u001b[0m\u001b[0mTF_GetBuffer\u001b[0m\u001b[1;33m(\u001b[0m\u001b[0mrun_metadata_ptr\u001b[0m\u001b[1;33m)\u001b[0m\u001b[1;33m\u001b[0m\u001b[0m\n",
      "\u001b[1;32mC:\\Program Files\\Anaconda3\\lib\\site-packages\\tensorflow\\python\\client\\session.py\u001b[0m in \u001b[0;36m_run\u001b[1;34m(self, handle, fetches, feed_dict, options, run_metadata)\u001b[0m\n\u001b[0;32m   1067\u001b[0m             \u001b[0mfeed_handles\u001b[0m\u001b[1;33m[\u001b[0m\u001b[0msubfeed_t\u001b[0m\u001b[1;33m]\u001b[0m \u001b[1;33m=\u001b[0m \u001b[0msubfeed_val\u001b[0m\u001b[1;33m\u001b[0m\u001b[0m\n\u001b[0;32m   1068\u001b[0m           \u001b[1;32melse\u001b[0m\u001b[1;33m:\u001b[0m\u001b[1;33m\u001b[0m\u001b[0m\n\u001b[1;32m-> 1069\u001b[1;33m             \u001b[0mnp_val\u001b[0m \u001b[1;33m=\u001b[0m \u001b[0mnp\u001b[0m\u001b[1;33m.\u001b[0m\u001b[0masarray\u001b[0m\u001b[1;33m(\u001b[0m\u001b[0msubfeed_val\u001b[0m\u001b[1;33m,\u001b[0m \u001b[0mdtype\u001b[0m\u001b[1;33m=\u001b[0m\u001b[0msubfeed_dtype\u001b[0m\u001b[1;33m)\u001b[0m\u001b[1;33m\u001b[0m\u001b[0m\n\u001b[0m\u001b[0;32m   1070\u001b[0m \u001b[1;33m\u001b[0m\u001b[0m\n\u001b[0;32m   1071\u001b[0m           if (not is_tensor_handle_feed and\n",
      "\u001b[1;32mC:\\Program Files\\Anaconda3\\lib\\site-packages\\numpy\\core\\numeric.py\u001b[0m in \u001b[0;36masarray\u001b[1;34m(a, dtype, order)\u001b[0m\n\u001b[0;32m    490\u001b[0m \u001b[1;33m\u001b[0m\u001b[0m\n\u001b[0;32m    491\u001b[0m     \"\"\"\n\u001b[1;32m--> 492\u001b[1;33m     \u001b[1;32mreturn\u001b[0m \u001b[0marray\u001b[0m\u001b[1;33m(\u001b[0m\u001b[0ma\u001b[0m\u001b[1;33m,\u001b[0m \u001b[0mdtype\u001b[0m\u001b[1;33m,\u001b[0m \u001b[0mcopy\u001b[0m\u001b[1;33m=\u001b[0m\u001b[1;32mFalse\u001b[0m\u001b[1;33m,\u001b[0m \u001b[0morder\u001b[0m\u001b[1;33m=\u001b[0m\u001b[0morder\u001b[0m\u001b[1;33m)\u001b[0m\u001b[1;33m\u001b[0m\u001b[0m\n\u001b[0m\u001b[0;32m    493\u001b[0m \u001b[1;33m\u001b[0m\u001b[0m\n\u001b[0;32m    494\u001b[0m \u001b[1;33m\u001b[0m\u001b[0m\n",
      "\u001b[1;31mTypeError\u001b[0m: float() argument must be a string or a number, not 'StandardScaler'"
     ]
    }
   ],
   "source": [
    "with tf.Session() as sess:\n",
    "    init.run()\n",
    "    for epoch in range(n_epochs):\n",
    "        sess.run(training_op,feed_dict={X: scaled_training_cancer_data,y: training_cancer_data,is_training: True})\n",
    "        acc_train = accuracy.eval(feed_dict={X: scaled_training_cancer_data,y: training_cancer_data,is_training :  True})\n",
    "        acc_val = accuracy.eval(feed_dict={X: scaled_validation_cancer_data,y: validation_cancer_data,is_training :False})\n",
    "        summary_str = error_summary(feed_dict={X: scaled_training_cancer_data,y: training_cancer_data,is_training : False})\n",
    "        file_writer.add_summary(summary_str,epoch)\n",
    "        print(epoch,\"Train_Accuracy\", acc_train,\"validation_Accuracy\",acc_val)\n",
    "    save_path= tf.train.Saver.save(sess, \"./my_model_find_cpkt\")"
   ]
  },
  {
   "cell_type": "code",
   "execution_count": null,
   "metadata": {},
   "outputs": [],
   "source": []
  }
 ],
 "metadata": {
  "kernelspec": {
   "display_name": "Python 3",
   "language": "python",
   "name": "python3"
  },
  "language_info": {
   "codemirror_mode": {
    "name": "ipython",
    "version": 3
   },
   "file_extension": ".py",
   "mimetype": "text/x-python",
   "name": "python",
   "nbconvert_exporter": "python",
   "pygments_lexer": "ipython3",
   "version": "3.6.4"
  }
 },
 "nbformat": 4,
 "nbformat_minor": 2
}
